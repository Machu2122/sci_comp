{
  "nbformat": 4,
  "nbformat_minor": 0,
  "metadata": {
    "colab": {
      "name": "Copy of IntroToJupyterCalculationsVariablesFunctions.ipynb",
      "provenance": [],
      "include_colab_link": true
    },
    "kernelspec": {
      "name": "python3",
      "display_name": "Python 3"
    },
    "language_info": {
      "name": "python"
    }
  },
  "cells": [
    {
      "cell_type": "markdown",
      "metadata": {
        "id": "view-in-github",
        "colab_type": "text"
      },
      "source": [
        "<a href=\"https://colab.research.google.com/github/Machu2122/sci_comp/blob/main/Copy_of_IntroToJupyterCalculationsVariablesFunctions.ipynb\" target=\"_parent\"><img src=\"https://colab.research.google.com/assets/colab-badge.svg\" alt=\"Open In Colab\"/></a>"
      ]
    },
    {
      "cell_type": "markdown",
      "metadata": {
        "id": "xItNMiT7LitL"
      },
      "source": [
        "Start by watching this video"
      ]
    },
    {
      "cell_type": "code",
      "metadata": {
        "colab": {
          "base_uri": "https://localhost:8080/",
          "height": 620
        },
        "id": "ZMfNqJxoGbKj",
        "outputId": "ca7a19d4-35f9-4355-cca6-d562e06c2cd7"
      },
      "source": [
        "# Video player\n",
        "from IPython.display import YouTubeVideo\n",
        "\n",
        "YouTubeVideo('GwCp6hUgga0', width=1200, height=600)"
      ],
      "execution_count": null,
      "outputs": [
        {
          "output_type": "execute_result",
          "data": {
            "text/html": [
              "\n",
              "        <iframe\n",
              "            width=\"1200\"\n",
              "            height=\"600\"\n",
              "            src=\"https://www.youtube.com/embed/GwCp6hUgga0\"\n",
              "            frameborder=\"0\"\n",
              "            allowfullscreen\n",
              "        ></iframe>\n",
              "        "
            ],
            "text/plain": [
              "<IPython.lib.display.YouTubeVideo at 0x7fc2f8816d50>"
            ],
            "image/jpeg": "[encoded data removed]"
          },
          "metadata": {
            "tags": []
          },
          "execution_count": 5
        }
      ]
    },
    {
      "cell_type": "markdown",
      "metadata": {
        "id": "UZmRZDmFTwFC"
      },
      "source": [
        "# Enrique's Guide to calculations, variables and functions in Jupyter Notebooks\n",
        "\n",
        "by Enrique Arce-Larreta, West High School, Salt Lake City, Utah, enrique.arce-larreta@slcschools.org\n",
        "\n",
        "This tutorial notebook walks you through how to: \n",
        "\n",
        "- make simple calucations\n",
        "- use markup techniques\n",
        "- make variables to solve problems\n",
        "\n",
        "\n",
        "\n"
      ]
    },
    {
      "cell_type": "markdown",
      "metadata": {
        "id": "rgnsjkuuHjns"
      },
      "source": [
        "# Setup your notebook\n",
        "\n",
        " - Useful Tip Dont forget to name your notebook (above the file menu)!  Save often.\n",
        "\n",
        "Jupyter Notebooks use python as a programming language.  Typically the first step is to load in all the modules and libraries of functions needed for your project.  So our first step is to load the notebook with plotting and math functions.  This is done by running the cell below (click the play button):"
      ]
    },
    {
      "cell_type": "code",
      "metadata": {
        "id": "EMgGB4QXc06K"
      },
      "source": [
        "import pandas as pd\n",
        "import numpy as np\n",
        "from math import cos,sin,pi\n",
        "import matplotlib as mpl\n",
        "import matplotlib.pyplot as plt"
      ],
      "execution_count": null,
      "outputs": []
    },
    {
      "cell_type": "markdown",
      "metadata": {
        "id": "Plagfw4EdbzC"
      },
      "source": [
        "# Try this:\n",
        "Now just test that you imported these libraries by running (by clicking play or shift-enter) the following:"
      ]
    },
    {
      "cell_type": "code",
      "metadata": {
        "colab": {
          "base_uri": "https://localhost:8080/"
        },
        "id": "HQ951dNIdk9r",
        "outputId": "840d21d6-a17e-4ddb-ab5b-10c12e42e41a"
      },
      "source": [
        "pi"
      ],
      "execution_count": null,
      "outputs": [
        {
          "output_type": "execute_result",
          "data": {
            "text/plain": [
              "3.141592653589793"
            ]
          },
          "metadata": {},
          "execution_count": 2
        }
      ]
    },
    {
      "cell_type": "code",
      "metadata": {
        "colab": {
          "base_uri": "https://localhost:8080/"
        },
        "id": "TvJFVLJ6JzQ5",
        "outputId": "66983f2f-6806-4ec0-fab6-6ff6ce73d35c"
      },
      "source": [
        "11.1+13.22+15.667"
      ],
      "execution_count": null,
      "outputs": [
        {
          "output_type": "execute_result",
          "data": {
            "text/plain": [
              "39.987"
            ]
          },
          "metadata": {},
          "execution_count": 3
        }
      ]
    },
    {
      "cell_type": "markdown",
      "metadata": {
        "id": "O_5DchJZdyN4"
      },
      "source": [
        "You can assign variable names to values and then use them."
      ]
    },
    {
      "cell_type": "code",
      "metadata": {
        "colab": {
          "base_uri": "https://localhost:8080/"
        },
        "id": "q3HRh9cvd7Ln",
        "outputId": "52864658-028e-4bdc-9255-cf150e46505d"
      },
      "source": [
        "a=2\n",
        "b=3\n",
        "a*b\n",
        "\n"
      ],
      "execution_count": null,
      "outputs": [
        {
          "output_type": "execute_result",
          "data": {
            "text/plain": [
              "6"
            ]
          },
          "metadata": {
            "tags": []
          },
          "execution_count": 4
        }
      ]
    },
    {
      "cell_type": "markdown",
      "metadata": {
        "id": "Ex3JRPe1IQiM"
      },
      "source": [
        "# Exercise 1:\n",
        "In the code cell below solve for the year you born by subtracting your age from the current year."
      ]
    },
    {
      "cell_type": "code",
      "metadata": {
        "id": "nLYHCT7UIXX_",
        "colab": {
          "base_uri": "https://localhost:8080/"
        },
        "outputId": "6cb2433e-57f6-44a2-a61c-4c6c6401d940"
      },
      "source": [
        "2021-12\n",
        "\n",
        "\n"
      ],
      "execution_count": null,
      "outputs": [
        {
          "output_type": "execute_result",
          "data": {
            "text/plain": [
              "2009"
            ]
          },
          "metadata": {},
          "execution_count": 1
        }
      ]
    },
    {
      "cell_type": "markdown",
      "metadata": {
        "id": "PDf5gYp2HL83"
      },
      "source": [
        ""
      ]
    },
    {
      "cell_type": "markdown",
      "metadata": {
        "id": "c-UgmJAQeRzb"
      },
      "source": [
        "# Exponents \n",
        "to apply the square root, you can either use the square root function or just raise the power using the **, for example:"
      ]
    },
    {
      "cell_type": "markdown",
      "metadata": {
        "id": "u6zYhxe3es7m"
      },
      "source": [
        ""
      ]
    },
    {
      "cell_type": "code",
      "metadata": {
        "colab": {
          "base_uri": "https://localhost:8080/"
        },
        "id": "i61GAX5wefVZ",
        "outputId": "af0d5d46-7b5d-48d1-dc06-19d683f8fe10"
      },
      "source": [
        "3**2"
      ],
      "execution_count": null,
      "outputs": [
        {
          "output_type": "execute_result",
          "data": {
            "text/plain": [
              "9"
            ]
          },
          "metadata": {
            "tags": []
          },
          "execution_count": 5
        }
      ]
    },
    {
      "cell_type": "code",
      "metadata": {
        "colab": {
          "base_uri": "https://localhost:8080/"
        },
        "id": "jyXd4lySejiz",
        "outputId": "b1611535-deea-4f89-fb6f-a95d0b954459"
      },
      "source": [
        "3**3"
      ],
      "execution_count": null,
      "outputs": [
        {
          "output_type": "execute_result",
          "data": {
            "text/plain": [
              "27"
            ]
          },
          "metadata": {
            "tags": []
          },
          "execution_count": 6
        }
      ]
    },
    {
      "cell_type": "code",
      "metadata": {
        "colab": {
          "base_uri": "https://localhost:8080/"
        },
        "id": "5zTVGEZPemsk",
        "outputId": "614266b2-9192-420f-e24b-28eedca5329c"
      },
      "source": [
        "16**0.5"
      ],
      "execution_count": null,
      "outputs": [
        {
          "output_type": "execute_result",
          "data": {
            "text/plain": [
              "4.0"
            ]
          },
          "metadata": {
            "tags": []
          },
          "execution_count": 7
        }
      ]
    },
    {
      "cell_type": "markdown",
      "metadata": {
        "id": "sdUvW_tsX5Ih"
      },
      "source": [
        ""
      ]
    },
    {
      "cell_type": "markdown",
      "metadata": {
        "id": "GtY6P8vCeu_S"
      },
      "source": [
        "The square root function is in the numpy library and is called like:"
      ]
    },
    {
      "cell_type": "code",
      "metadata": {
        "colab": {
          "base_uri": "https://localhost:8080/"
        },
        "id": "rXuMGT0ye0Q_",
        "outputId": "85da1919-a697-4104-eb7c-5572e036a05e"
      },
      "source": [
        "np.sqrt(16)"
      ],
      "execution_count": null,
      "outputs": [
        {
          "output_type": "execute_result",
          "data": {
            "text/plain": [
              "4.0"
            ]
          },
          "metadata": {},
          "execution_count": 19
        }
      ]
    },
    {
      "cell_type": "markdown",
      "metadata": {
        "id": "mmUJ48foe5ka"
      },
      "source": [
        "a function is called by a case sensitive name, followed by paranthesis that require inputs.   So in the square root case, the name is: np.sqrt and the input is (16).  So it runs the square root algorithm for the input of 16."
      ]
    },
    {
      "cell_type": "markdown",
      "metadata": {
        "id": "gK0YW17mJ1y7"
      },
      "source": [
        "# Exercise 2\n",
        "Evaluate 22 raised to the power 3.   "
      ]
    },
    {
      "cell_type": "code",
      "metadata": {
        "id": "5ub4rd5kJ3BZ",
        "colab": {
          "base_uri": "https://localhost:8080/"
        },
        "outputId": "424140b5-526e-41ae-cd85-87cda521fc07"
      },
      "source": [
        "22**3\n",
        "\n"
      ],
      "execution_count": null,
      "outputs": [
        {
          "output_type": "execute_result",
          "data": {
            "text/plain": [
              "10648"
            ]
          },
          "metadata": {},
          "execution_count": 2
        }
      ]
    },
    {
      "cell_type": "markdown",
      "metadata": {
        "id": "hqCsSsf6MKGT"
      },
      "source": [
        "# Exercise 3 \n",
        "\n",
        "You will be solving the following physics problem by assigning variables. \n",
        "Enrique is driving his car at a velocity of +20.0 $m/s$ toward a traffic light. The light turns red, and Enrique slams on the brakes, causing a skid. Enrique's acceleration remains constant at -7.00 $m/s^2$ until his car stops.  Determine how far the car displaces in the skidding process."
      ]
    },
    {
      "cell_type": "code",
      "metadata": {
        "id": "pkRFz8uvN5Wr"
      },
      "source": [
        "# assign the initial velocity variable\n",
        "initialvelocity = 20\n",
        "\n",
        "\n"
      ],
      "execution_count": null,
      "outputs": []
    },
    {
      "cell_type": "markdown",
      "metadata": {
        "id": "Gry0U3rqDBtq"
      },
      "source": [
        "Assign the acceleration variable"
      ]
    },
    {
      "cell_type": "code",
      "metadata": {
        "id": "2rfUjiC9OVag"
      },
      "source": [
        "# assigning acceleration variable\n",
        "acceleration = -7\n"
      ],
      "execution_count": null,
      "outputs": []
    },
    {
      "cell_type": "markdown",
      "metadata": {
        "id": "oW8HL5GMDGPV"
      },
      "source": [
        "We can use the timeless equation from kinematics to solve the problem, $v_f^2 = v_i^2+2ad$ \n",
        "\n",
        "What is the final velocity?  Assign it as a variable below"
      ]
    },
    {
      "cell_type": "code",
      "metadata": {
        "id": "EtaAnYZyDeLb"
      },
      "source": [
        "finalvelocity = 0"
      ],
      "execution_count": null,
      "outputs": []
    },
    {
      "cell_type": "markdown",
      "metadata": {
        "id": "LlNkGf1WD-yN"
      },
      "source": [
        "Solving for d, we can use Jupyter to solve the problem:  (Note, you may need to change the variables above to match the variables below or vice-versa)"
      ]
    },
    {
      "cell_type": "code",
      "metadata": {
        "id": "qcfIjxrtDzNc",
        "colab": {
          "base_uri": "https://localhost:8080/"
        },
        "outputId": "579231ca-a906-48f5-b6e9-d62ce507b64c"
      },
      "source": [
        "d = (finalvelocity**2-initialvelocity**2)/(2*acceleration)\n",
        "print(d)"
      ],
      "execution_count": null,
      "outputs": [
        {
          "output_type": "stream",
          "name": "stdout",
          "text": [
            "28.571428571428573\n"
          ]
        }
      ]
    },
    {
      "cell_type": "markdown",
      "metadata": {
        "id": "I82EE9LiEK_m"
      },
      "source": [
        "Now you have an equation for d with three variables, finalvelocity, intialvelocity and acceleration.   Change these variables and see how it affects d.   Comment on your findings using a text cell below:"
      ]
    },
    {
      "cell_type": "markdown",
      "metadata": {
        "id": "u5sVquEXEbl2"
      },
      "source": [
        "d = 28.5714 meters\n",
        "I made a prediction that if I decreased the initional velocity it would decrease the displacement of the car and when I checked it my prediction was correct."
      ]
    },
    {
      "cell_type": "markdown",
      "metadata": {
        "id": "IqoMfoHVEeFR"
      },
      "source": [
        "# Exercise 4\n",
        "\n",
        "Solve another physics problem of your choosing using variables.   If you need help finding physics problems to solve, I recommend using: https://www.physicsclassroom.com/reviews\n"
      ]
    },
    {
      "cell_type": "markdown",
      "metadata": {
        "id": "NgwyWQ9OE_Pv"
      },
      "source": [
        "If I was running to a soccerball at 1 m/s and I started to accelerate at the ball at 2 m/s^2, if the ball is 10 meters away from me what speed will I be going when I get to the ball.\n",
        "\n"
      ]
    },
    {
      "cell_type": "code",
      "metadata": {
        "id": "BhdVd7SHE_4W"
      },
      "source": [
        "initialvelocity = 1\n",
        "acceleration = 2\n",
        "d = 10"
      ],
      "execution_count": null,
      "outputs": []
    },
    {
      "cell_type": "code",
      "metadata": {
        "id": "HFlLcvYaFI76"
      },
      "source": [
        "Which equation will you use to solve it?"
      ],
      "execution_count": null,
      "outputs": []
    },
    {
      "cell_type": "code",
      "metadata": {
        "id": "RQ80X75kFMO1",
        "colab": {
          "base_uri": "https://localhost:8080/"
        },
        "outputId": "37c76a5f-1fec-4283-c285-012221d367b0"
      },
      "source": [
        "# Solve the problem with your equation here\n",
        "vf = np.sqrt(initialvelocity**2 + 2*acceleration*d)\n",
        "print(vf)"
      ],
      "execution_count": null,
      "outputs": [
        {
          "output_type": "stream",
          "name": "stdout",
          "text": [
            "6.4031242374328485\n"
          ]
        }
      ]
    },
    {
      "cell_type": "code",
      "metadata": {
        "id": "U-igDpdgFPSx",
        "colab": {
          "base_uri": "https://localhost:8080/"
        },
        "outputId": "f82da384-a478-472b-917c-428cda4cf9ee"
      },
      "source": [
        "print(\"I was trying to find out what the final velocity was when I got to the ball, so I took the square root of the initial velocity \\n to the 2nd power plus 2 times the acceleration multiplied by the distance to get the final velocity which was about 6.4031 m/s.\")"
      ],
      "execution_count": null,
      "outputs": [
        {
          "output_type": "stream",
          "name": "stdout",
          "text": [
            "I was trying to find out what the final velocity was when I got to the ball, so I took the square root of the initial velocity \n",
            " to the 2nd power plus 2 times the acceleration multiplied by the distance to get the final velocity which was about 6.4031 m/s.\n"
          ]
        }
      ]
    },
    {
      "cell_type": "markdown",
      "metadata": {
        "id": "fCru4R-pFjjJ"
      },
      "source": [
        "# Extension \n",
        "\n",
        "Write a function for the skidding displacement solved in Exercise 3.  Recall the equation was $d = (finalvelocity^2-initialvelocity^2)/(2*acceleration)$.\n",
        "\n",
        "(Use the last part of the tutorial video for help here)  And solve it for the variables used in exercise 3.   \n"
      ]
    },
    {
      "cell_type": "code",
      "metadata": {
        "id": "KxBHrjAMGG3I"
      },
      "source": [
        "# Write your code here\n"
      ],
      "execution_count": null,
      "outputs": []
    },
    {
      "cell_type": "code",
      "metadata": {
        "id": "lZOQmoADGKyF"
      },
      "source": [
        "# Solve your problem here"
      ],
      "execution_count": null,
      "outputs": []
    }
  ]
}